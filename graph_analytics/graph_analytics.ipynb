{
 "cells": [
  {
   "cell_type": "markdown",
   "metadata": {
    "deletable": true,
    "editable": true
   },
   "source": [
    "# Foodnet - Spanish cuisine analysis\n",
    "Author: Marc Cadús García"
   ]
  },
  {
   "cell_type": "markdown",
   "metadata": {
    "deletable": true,
    "editable": true
   },
   "source": [
    "In this notebook I pretend to apply different analytics\n",
    "techniques over a graph representing the Spanish cuisine in order to extract new insights. It is expected that graph algorithms may help to extract new knowledge for helping to understand better the Spanish culinary culture. To do so, I a\n",
    "going to use Python [networkX](https://networkx.github.io/). I have scrapped near 3000 Spanish recipes from [cookpad.com](https://cookpad.com/es/buscar/cocina%20tradicional%20espa%C3%B1ola?page=1). These recipes and the scrapping code are available in this repository."
   ]
  },
  {
   "cell_type": "markdown",
   "metadata": {
    "deletable": true,
    "editable": true
   },
   "source": [
    "## Data exploration and transformation"
   ]
  },
  {
   "cell_type": "code",
   "execution_count": 93,
   "metadata": {
    "collapsed": false,
    "deletable": true,
    "editable": true
   },
   "outputs": [],
   "source": [
    "#imports\n",
    "import networkx as nx\n",
    "import pandas as pd\n",
    "from itertools import combinations\n",
    "import matplotlib.pyplot as plt\n",
    "from matplotlib import pylab\n",
    "import sys  \n",
    "from itertools import combinations\n",
    "import operator\n",
    "from operator import itemgetter\n",
    "from scipy import integrate"
   ]
  },
  {
   "cell_type": "code",
   "execution_count": 2,
   "metadata": {
    "collapsed": false,
    "deletable": true,
    "editable": true
   },
   "outputs": [],
   "source": [
    "# Exploring data\n",
    "recipes_df = pd.read_csv('../data/clean_spanish_recipes.csv',sep='\",\"')\n",
    "print recipes_df.keys()\n",
    "print \"\\n\"\n",
    "print recipes_df.head()"
   ]
  },
  {
   "cell_type": "code",
   "execution_count": 3,
   "metadata": {
    "collapsed": false,
    "deletable": true,
    "editable": true
   },
   "outputs": [],
   "source": [
    "# Transforming data\n",
    "#recipes_df[\"ingredients\"].apply(encode(\"latin-1\"))\n",
    "recipes_df[\"ingredients\"] = recipes_df[\"ingredients\"].str.split(\"', '\")\n",
    "print type(recipes_df[\"ingredients\"][0])"
   ]
  },
  {
   "cell_type": "markdown",
   "metadata": {
    "collapsed": true,
    "deletable": true,
    "editable": true
   },
   "source": [
    "## Graph building"
   ]
  },
  {
   "cell_type": "code",
   "execution_count": 4,
   "metadata": {
    "collapsed": false,
    "deletable": true,
    "editable": true
   },
   "outputs": [],
   "source": [
    "\n",
    "def build_graph(nodes, graph):\n",
    "   # Generate a new graph. Edges are nodes permutations in pairs\n",
    "    edges = combinations(nodes, 2)\n",
    "    graph.add_nodes_from(nodes)\n",
    "    weighted_edges = list()\n",
    "    for edge in edges:\n",
    "        if graph.has_edge(edge[0],edge[1]):\n",
    "            weighted_edges.append((edge[0],edge[1],graph[edge[0]][edge[1]]['weight']+1))\n",
    "        else:\n",
    "            weighted_edges.append((edge[0],edge[1],1))\n",
    "    graph.add_weighted_edges_from(weighted_edges)"
   ]
  },
  {
   "cell_type": "code",
   "execution_count": 5,
   "metadata": {
    "collapsed": true
   },
   "outputs": [],
   "source": [
    "def save_graph(graph,file_name):\n",
    "    #initialze Figure\n",
    "    plt.figure(num=None, figsize=(120, 120), dpi=60)\n",
    "    plt.axis('off')\n",
    "    fig = plt.figure(1)\n",
    "    pos = nx.spring_layout(graph)\n",
    "    \n",
    "    d = nx.degree(graph)\n",
    "    \n",
    "    nx.draw_networkx_nodes(graph,pos, nodelist=d.keys(), node_size=[v * 10 for v in d.values()])\n",
    "    nx.draw_networkx_edges(graph,pos)\n",
    "    nx.draw_networkx_labels(graph,pos)\n",
    "\n",
    "    cut = 1.00\n",
    "    xmax = cut * max(xx for xx, yy in pos.values())\n",
    "    ymax = cut * max(yy for xx, yy in pos.values())\n",
    "    plt.xlim(0, xmax)\n",
    "    plt.ylim(0, ymax)\n",
    "\n",
    "    plt.savefig(file_name,bbox_inches=\"tight\")\n",
    "    pylab.close()\n",
    "    del fig"
   ]
  },
  {
   "cell_type": "code",
   "execution_count": 6,
   "metadata": {
    "collapsed": false,
    "deletable": true,
    "editable": true
   },
   "outputs": [],
   "source": [
    "# Generating graph\n",
    "recipes_graph  = nx.Graph()\n",
    "recipes_graph.clear()\n",
    "for val in recipes_df[\"ingredients\"]:\n",
    "    build_graph(val,recipes_graph)\n",
    "    \n"
   ]
  },
  {
   "cell_type": "markdown",
   "metadata": {},
   "source": [
    "## Graph analytics"
   ]
  },
  {
   "cell_type": "code",
   "execution_count": 7,
   "metadata": {
    "collapsed": false
   },
   "outputs": [],
   "source": [
    "#Num of nodes\n",
    "print \"Total num of nodes: \"+str(len(recipes_graph.nodes()))\n",
    "print \"Total num of edges: \"+str(len(recipes_graph.edges()))"
   ]
  },
  {
   "cell_type": "code",
   "execution_count": 55,
   "metadata": {
    "collapsed": false
   },
   "outputs": [],
   "source": [
    "# Top 20 higher degree nodes\n",
    "degrees = sorted(recipes_graph.degree_iter(),key=itemgetter(1),reverse=True)\n",
    "high_degree_nodes = list()\n",
    "for node in degrees[:20]:\n",
    "    high_degree_nodes.append(node[0])\n",
    "    print node"
   ]
  },
  {
   "cell_type": "code",
   "execution_count": 54,
   "metadata": {
    "collapsed": false
   },
   "outputs": [],
   "source": [
    "# Top 20 eigenvector centrality\n",
    "eigenvector_centrality = nx.eigenvector_centrality(recipes_graph)\n",
    "eigenvector_centrality_sorted = sorted(eigenvector_centrality.items(), key=itemgetter(1), reverse=True)\n",
    "for node in eigenvector_centrality_sorted[1:21]:\n",
    "    print node"
   ]
  },
  {
   "cell_type": "code",
   "execution_count": 60,
   "metadata": {
    "collapsed": false
   },
   "outputs": [],
   "source": [
    "# Top 20 pagerank centrality\n",
    "pagerank_centrality = nx.eigenvector_centrality(recipes_graph)\n",
    "pagerank_centrality_sorted = sorted(pagerank_centrality.items(), key=itemgetter(1), reverse=True)\n",
    "for node in pagerank_centrality_sorted[1:21]:\n",
    "    print node"
   ]
  },
  {
   "cell_type": "code",
   "execution_count": 86,
   "metadata": {
    "collapsed": false
   },
   "outputs": [],
   "source": [
    "# Conected components\n",
    "connected_component = list(nx.connected_component_subgraphs(recipes_graph))\n",
    "print \"There is \"+str(len(connected_component))+\" connected componentes\"\n",
    "for component in connected_component:\n",
    "    print \"- Component of \"+str(len(component))+ \" nodes\"\n",
    "    if (len(component)==1):\n",
    "        print \"\\t- Ingredient: \"+str(component.nodes())\n",
    "main_component = connected_component[0]"
   ]
  },
  {
   "cell_type": "code",
   "execution_count": 88,
   "metadata": {
    "collapsed": false
   },
   "outputs": [],
   "source": [
    "# Graph diameter\n",
    "print \"Nodes having minimum eccentricity\\n\"+str(nx.center(main_component))\n",
    "print \"Nodes having maximum eccentricity\\n\"+str(nx.periphery(main_component))\n",
    "print \"Minimum eccentricity \"+str(nx.radius(main_component))\n",
    "print \"Maximum eccentricity \"+str(nx.diameter(main_component))"
   ]
  },
  {
   "cell_type": "code",
   "execution_count": 90,
   "metadata": {
    "collapsed": true
   },
   "outputs": [],
   "source": [
    "# Mean cut\n",
    "print \"Nodes to be removed to disconect the graph\"+nx.minimum_node_cut(main_component)"
   ]
  },
  {
   "cell_type": "markdown",
   "metadata": {},
   "source": [
    "## Visualitzations"
   ]
  },
  {
   "cell_type": "code",
   "execution_count": 91,
   "metadata": {
    "collapsed": true
   },
   "outputs": [],
   "source": [
    "# For avoid encoding problems\n",
    "reload(sys)  \n",
    "sys.setdefaultencoding('utf8')"
   ]
  },
  {
   "cell_type": "code",
   "execution_count": 99,
   "metadata": {
    "collapsed": false
   },
   "outputs": [],
   "source": [
    "# Original graph\n",
    "save_graph(main_component,\"original_graph.jpg\")"
   ]
  },
  {
   "cell_type": "code",
   "execution_count": 100,
   "metadata": {
    "collapsed": true
   },
   "outputs": [],
   "source": [
    "def extract_backbone(g, alpha):\n",
    "    backbone_graph = nx.Graph()\n",
    "    for node in g:\n",
    "        k_n = len(g[node])\n",
    "        if k_n > 1:\n",
    "            sum_w = sum( g[node][neighbor]['weight'] for neighbor in g[node] )\n",
    "            for neighbor in g[node]:\n",
    "                edgeWeight = g[node][neighbor]['weight']\n",
    "                pij = float(edgeWeight)/sum_w\n",
    "                if (1-pij)**(k_n-1) < alpha: # equation 2\n",
    "                    backbone_graph.add_edge( node,neighbor, weight = edgeWeight)\n",
    "    return backbone_graph"
   ]
  },
  {
   "cell_type": "code",
   "execution_count": 98,
   "metadata": {
    "collapsed": false
   },
   "outputs": [],
   "source": [
    "save_graph(extract_backbone(main_component,0.01),\"backbone_graph.jpg\")"
   ]
  },
  {
   "cell_type": "code",
   "execution_count": null,
   "metadata": {
    "collapsed": true
   },
   "outputs": [],
   "source": [
    "# Visualizing Higher degree nodes\n",
    "k = recipes_graph.subgraph(high_degree_nodes)\n",
    "save_graph(k,\"high_degree_subgraph.jpg\")"
   ]
  },
  {
   "cell_type": "code",
   "execution_count": null,
   "metadata": {
    "collapsed": false
   },
   "outputs": [],
   "source": []
  },
  {
   "cell_type": "code",
   "execution_count": null,
   "metadata": {
    "collapsed": true
   },
   "outputs": [],
   "source": []
  },
  {
   "cell_type": "code",
   "execution_count": null,
   "metadata": {
    "collapsed": false
   },
   "outputs": [],
   "source": []
  },
  {
   "cell_type": "code",
   "execution_count": null,
   "metadata": {
    "collapsed": false,
    "deletable": true,
    "editable": true
   },
   "outputs": [],
   "source": []
  },
  {
   "cell_type": "code",
   "execution_count": null,
   "metadata": {
    "collapsed": true,
    "deletable": true,
    "editable": true
   },
   "outputs": [],
   "source": []
  },
  {
   "cell_type": "code",
   "execution_count": null,
   "metadata": {
    "collapsed": false,
    "deletable": true,
    "editable": true
   },
   "outputs": [],
   "source": []
  },
  {
   "cell_type": "code",
   "execution_count": null,
   "metadata": {
    "collapsed": false,
    "deletable": true,
    "editable": true
   },
   "outputs": [],
   "source": []
  },
  {
   "cell_type": "code",
   "execution_count": null,
   "metadata": {
    "collapsed": false,
    "deletable": true,
    "editable": true
   },
   "outputs": [],
   "source": []
  },
  {
   "cell_type": "code",
   "execution_count": null,
   "metadata": {
    "collapsed": false,
    "deletable": true,
    "editable": true
   },
   "outputs": [],
   "source": []
  },
  {
   "cell_type": "code",
   "execution_count": null,
   "metadata": {
    "collapsed": false,
    "deletable": true,
    "editable": true
   },
   "outputs": [],
   "source": []
  },
  {
   "cell_type": "code",
   "execution_count": null,
   "metadata": {
    "collapsed": false,
    "deletable": true,
    "editable": true
   },
   "outputs": [],
   "source": []
  },
  {
   "cell_type": "code",
   "execution_count": null,
   "metadata": {
    "collapsed": false,
    "deletable": true,
    "editable": true
   },
   "outputs": [],
   "source": [
    "%matplotlib inline\n",
    "import numpy as np\n",
    "import matplotlib.pyplot as plt\n",
    "import mpld3\n",
    "\n",
    "from mpld3 import plugins\n",
    "\n",
    "fig, ax = plt.subplots()\n",
    "\n",
    "pos = None\n",
    "\n",
    "plugins.connect(fig, NetworkXD3ForceLayout(filtered_recipes_graph, pos, ax))"
   ]
  },
  {
   "cell_type": "code",
   "execution_count": null,
   "metadata": {
    "collapsed": true,
    "deletable": true,
    "editable": true
   },
   "outputs": [],
   "source": [
    "import mpld3\n",
    "\n",
    "graph = {'directed': False,\n",
    " 'graph': {'name': \"Zachary's Karate Club\"},\n",
    " 'links': [{'source': 0, 'target': 1},\n",
    "  {'source': 0, 'target': 2},\n",
    "  {'source': 0, 'target': 3},\n",
    "  {'source': 0, 'target': 4},\n",
    "  {'source': 0, 'target': 5},\n",
    "  {'source': 0, 'target': 6},\n",
    "  {'source': 0, 'target': 7},\n",
    "  {'source': 0, 'target': 8},\n",
    "  {'source': 0, 'target': 10},\n",
    "  {'source': 0, 'target': 11},\n",
    "  {'source': 0, 'target': 12},\n",
    "  {'source': 0, 'target': 13},\n",
    "  {'source': 0, 'target': 17},\n",
    "  {'source': 0, 'target': 19},\n",
    "  {'source': 0, 'target': 21},\n",
    "  {'source': 0, 'target': 31},\n",
    "  {'source': 1, 'target': 2},\n",
    "  {'source': 1, 'target': 3},\n",
    "  {'source': 1, 'target': 7},\n",
    "  {'source': 1, 'target': 13},\n",
    "  {'source': 1, 'target': 17},\n",
    "  {'source': 1, 'target': 19},\n",
    "  {'source': 1, 'target': 21},\n",
    "  {'source': 1, 'target': 30},\n",
    "  {'source': 2, 'target': 3},\n",
    "  {'source': 2, 'target': 32},\n",
    "  {'source': 2, 'target': 7},\n",
    "  {'source': 2, 'target': 8},\n",
    "  {'source': 2, 'target': 9},\n",
    "  {'source': 2, 'target': 13},\n",
    "  {'source': 2, 'target': 27},\n",
    "  {'source': 2, 'target': 28},\n",
    "  {'source': 3, 'target': 7},\n",
    "  {'source': 3, 'target': 12},\n",
    "  {'source': 3, 'target': 13},\n",
    "  {'source': 4, 'target': 10},\n",
    "  {'source': 4, 'target': 6},\n",
    "  {'source': 5, 'target': 16},\n",
    "  {'source': 5, 'target': 10},\n",
    "  {'source': 5, 'target': 6},\n",
    "  {'source': 6, 'target': 16},\n",
    "  {'source': 8, 'target': 32},\n",
    "  {'source': 8, 'target': 30},\n",
    "  {'source': 8, 'target': 33},\n",
    "  {'source': 9, 'target': 33},\n",
    "  {'source': 13, 'target': 33},\n",
    "  {'source': 14, 'target': 32},\n",
    "  {'source': 14, 'target': 33},\n",
    "  {'source': 15, 'target': 32},\n",
    "  {'source': 15, 'target': 33},\n",
    "  {'source': 18, 'target': 32},\n",
    "  {'source': 18, 'target': 33},\n",
    "  {'source': 19, 'target': 33},\n",
    "  {'source': 20, 'target': 32},\n",
    "  {'source': 20, 'target': 33},\n",
    "  {'source': 22, 'target': 32},\n",
    "  {'source': 22, 'target': 33},\n",
    "  {'source': 23, 'target': 32},\n",
    "  {'source': 23, 'target': 25},\n",
    "  {'source': 23, 'target': 27},\n",
    "  {'source': 23, 'target': 29},\n",
    "  {'source': 23, 'target': 33},\n",
    "  {'source': 24, 'target': 25},\n",
    "  {'source': 24, 'target': 27},\n",
    "  {'source': 24, 'target': 31},\n",
    "  {'source': 25, 'target': 31},\n",
    "  {'source': 26, 'target': 33},\n",
    "  {'source': 26, 'target': 29},\n",
    "  {'source': 27, 'target': 33},\n",
    "  {'source': 28, 'target': 33},\n",
    "  {'source': 28, 'target': 31},\n",
    "  {'source': 29, 'target': 32},\n",
    "  {'source': 29, 'target': 33},\n",
    "  {'source': 30, 'target': 33},\n",
    "  {'source': 30, 'target': 32},\n",
    "  {'source': 31, 'target': 33},\n",
    "  {'source': 31, 'target': 32},\n",
    "  {'source': 32, 'target': 33}],\n",
    " 'multigraph': False,\n",
    " 'nodes': [{'club': 'Mr. Hi', 'color': 'purple', 'id': 0, 'size': 16},\n",
    "  {'club': 'Mr. Hi', 'color': 'purple', 'id': 1, 'size': 9},\n",
    "  {'club': 'Mr. Hi', 'color': 'purple', 'id': 2, 'size': 10},\n",
    "  {'club': 'Mr. Hi', 'color': 'purple', 'id': 3, 'size': 6},\n",
    "  {'club': 'Mr. Hi', 'color': 'purple', 'id': 4, 'size': 3},\n",
    "  {'club': 'Mr. Hi', 'color': 'purple', 'id': 5, 'size': 4},\n",
    "  {'club': 'Mr. Hi', 'color': 'purple', 'id': 6, 'size': 4},\n",
    "  {'club': 'Mr. Hi', 'color': 'purple', 'id': 7, 'size': 4},\n",
    "  {'club': 'Mr. Hi', 'color': 'purple', 'id': 8, 'size': 5},\n",
    "  {'club': 'Officer', 'color': 'orange', 'id': 9, 'size': 2},\n",
    "  {'club': 'Mr. Hi', 'color': 'purple', 'id': 10, 'size': 3},\n",
    "  {'club': 'Mr. Hi', 'color': 'purple', 'id': 11, 'size': 1},\n",
    "  {'club': 'Mr. Hi', 'color': 'purple', 'id': 12, 'size': 2},\n",
    "  {'club': 'Mr. Hi', 'color': 'purple', 'id': 13, 'size': 5},\n",
    "  {'club': 'Officer', 'color': 'orange', 'id': 14, 'size': 2},\n",
    "  {'club': 'Officer', 'color': 'orange', 'id': 15, 'size': 2},\n",
    "  {'club': 'Mr. Hi', 'color': 'purple', 'id': 16, 'size': 2},\n",
    "  {'club': 'Mr. Hi', 'color': 'purple', 'id': 17, 'size': 2},\n",
    "  {'club': 'Officer', 'color': 'orange', 'id': 18, 'size': 2},\n",
    "  {'club': 'Mr. Hi', 'color': 'purple', 'id': 19, 'size': 3},\n",
    "  {'club': 'Officer', 'color': 'orange', 'id': 20, 'size': 2},\n",
    "  {'club': 'Mr. Hi', 'color': 'purple', 'id': 21, 'size': 2},\n",
    "  {'club': 'Officer', 'color': 'orange', 'id': 22, 'size': 2},\n",
    "  {'club': 'Officer', 'color': 'orange', 'id': 23, 'size': 5},\n",
    "  {'club': 'Officer', 'color': 'orange', 'id': 24, 'size': 3},\n",
    "  {'club': 'Officer', 'color': 'orange', 'id': 25, 'size': 3},\n",
    "  {'club': 'Officer', 'color': 'orange', 'id': 26, 'size': 2},\n",
    "  {'club': 'Officer', 'color': 'orange', 'id': 27, 'size': 4},\n",
    "  {'club': 'Officer', 'color': 'orange', 'id': 28, 'size': 3},\n",
    "  {'club': 'Officer', 'color': 'orange', 'id': 29, 'size': 4},\n",
    "  {'club': 'Officer', 'color': 'orange', 'id': 30, 'size': 4},\n",
    "  {'club': 'Officer', 'color': 'orange', 'id': 31, 'size': 6},\n",
    "  {'club': 'Officer', 'color': 'orange', 'id': 32, 'size': 12},\n",
    "  {'club': 'Officer', 'color': 'orange', 'id': 33, 'size': 17}]}\n",
    "\n",
    "class NetworkXD3ForceLayout(mpld3.plugins.PluginBase):\n",
    "    \"\"\"A NetworkX to D3 Force Layout Plugin\"\"\"\n",
    "\n",
    "    JAVASCRIPT = \"\"\"\n",
    "    mpld3.register_plugin(\"networkxd3forcelayout\", NetworkXD3ForceLayoutPlugin);\n",
    "    NetworkXD3ForceLayoutPlugin.prototype = Object.create(mpld3.Plugin.prototype);\n",
    "    NetworkXD3ForceLayoutPlugin.prototype.constructor = NetworkXD3ForceLayoutPlugin;\n",
    "    NetworkXD3ForceLayoutPlugin.prototype.requiredProps = [\"graph\",\n",
    "                                                                \"ax_id\",];\n",
    "    NetworkXD3ForceLayoutPlugin.prototype.defaultProps = { coordinates: \"data\",\n",
    "                                                               gravity: 1,\n",
    "                                                               charge: -30,\n",
    "                                                               link_strength: 1,\n",
    "                                                               friction: 0.9,\n",
    "                                                               link_distance: 20,\n",
    "                                                               maximum_stroke_width: 2,\n",
    "                                                               minimum_stroke_width: 1,\n",
    "                                                               nominal_stroke_width: 1,\n",
    "                                                               maximum_radius: 10,\n",
    "                                                               minimum_radius: 1,\n",
    "                                                               nominal_radius: 5,\n",
    "                                                            };\n",
    "    function NetworkXD3ForceLayoutPlugin(fig, props){\n",
    "        mpld3.Plugin.call(this, fig, props);\n",
    "    };\n",
    "    var color = d3.scale.category20();\n",
    "    NetworkXD3ForceLayoutPlugin.prototype.zoomScaleProp = function (nominal_prop, minimum_prop, maximum_prop) {\n",
    "        var zoom = this.ax.zoom;\n",
    "        scalerFunction = function() {\n",
    "            var prop = nominal_prop;\n",
    "            if (nominal_prop*zoom.scale()>maximum_prop) prop = maximum_prop/zoom.scale();\n",
    "            if (nominal_prop*zoom.scale()<minimum_prop) prop = minimum_prop/zoom.scale();\n",
    "            return prop\n",
    "        }\n",
    "        return scalerFunction;\n",
    "    }\n",
    "    NetworkXD3ForceLayoutPlugin.prototype.setupDefaults = function () {\n",
    "        this.zoomScaleStroke = this.zoomScaleProp(this.props.nominal_stroke_width,\n",
    "                                                  this.props.minimum_stroke_width,\n",
    "                                                  this.props.maximum_stroke_width)\n",
    "        this.zoomScaleRadius = this.zoomScaleProp(this.props.nominal_radius,\n",
    "                                                  this.props.minimum_radius,\n",
    "                                                  this.props.maximum_radius)\n",
    "    }\n",
    "    NetworkXD3ForceLayoutPlugin.prototype.zoomed = function() {\n",
    "            this.tick()\n",
    "        }\n",
    "    NetworkXD3ForceLayoutPlugin.prototype.draw = function(){\n",
    "        plugin = this\n",
    "        brush = this.fig.getBrush();\n",
    "        DEFAULT_NODE_SIZE = this.props.nominal_radius;\n",
    "        var height = this.fig.height\n",
    "        var width = this.fig.width\n",
    "        var graph = this.props.graph\n",
    "        var gravity = this.props.gravity.toFixed()\n",
    "        var charge = this.props.charge.toFixed()\n",
    "        var link_distance = this.props.link_distance.toFixed()\n",
    "        var link_strength = this.props.link_strength.toFixed()\n",
    "        var friction = this.props.friction.toFixed()\n",
    "        this.ax = mpld3.get_element(this.props.ax_id, this.fig)\n",
    "        var ax = this.ax;\n",
    "        this.ax.elements.push(this)\n",
    "        ax_obj = this.ax;\n",
    "        var width = d3.max(ax.x.range()) - d3.min(ax.x.range()),\n",
    "            height = d3.max(ax.y.range()) - d3.min(ax.y.range());\n",
    "        var color = d3.scale.category20();\n",
    "        this.xScale = d3.scale.linear().domain([0, 1]).range([0, width]) // ax.x;\n",
    "        this.yScale = d3.scale.linear().domain([0, 1]).range([height, 0]) // ax.y;\n",
    "        this.force = d3.layout.force()\n",
    "                            .size([width, height]);\n",
    "        this.svg = this.ax.axes.append(\"g\");\n",
    "        for(var i = 0; i < graph.nodes.length; i++){\n",
    "            var node = graph.nodes[i];\n",
    "            if (node.hasOwnProperty('x')) {\n",
    "                node.x = this.ax.x(node.x);\n",
    "            }\n",
    "            if (node.hasOwnProperty('y')) {\n",
    "                node.y = this.ax.y(node.y);\n",
    "            }\n",
    "        }\n",
    "        this.force\n",
    "            .nodes(graph.nodes)\n",
    "            .links(graph.links)\n",
    "            .linkStrength(link_strength)\n",
    "            .friction(friction)\n",
    "            .linkDistance(link_distance)\n",
    "            .charge(charge)\n",
    "            .gravity(gravity)\n",
    "            .start();\n",
    "        this.link = this.svg.selectAll(\".link\")\n",
    "            .data(graph.links)\n",
    "          .enter().append(\"line\")\n",
    "            .attr(\"class\", \"link\")\n",
    "            .attr(\"stroke\", \"black\")\n",
    "            .style(\"stroke-width\", function (d) { return Math.sqrt(d.value); });\n",
    "        this.node = this.svg.selectAll(\".node\")\n",
    "            .data(graph.nodes)\n",
    "          .enter().append(\"circle\")\n",
    "            .attr(\"class\", \"node\")\n",
    "            .attr(\"r\", function(d) {return d.size === undefined ? DEFAULT_NODE_SIZE : d.size ;})\n",
    "            .style(\"fill\", function (d) { return d.color; });\n",
    "        this.node.append(\"title\")\n",
    "            .text(function (d) { return d.name; });\n",
    "        this.force.on(\"tick\", this.tick.bind(this));\n",
    "        this.setupDefaults()\n",
    "    };\n",
    "    NetworkXD3ForceLayoutPlugin.prototype.tick = function() {\n",
    "        this.link.attr(\"x1\", function (d) { return this.ax.x(this.xScale.invert(d.source.x)); }.bind(this))\n",
    "                 .attr(\"y1\", function (d) { return this.ax.y(this.yScale.invert(d.source.y)); }.bind(this))\n",
    "                 .attr(\"x2\", function (d) { return this.ax.x(this.xScale.invert(d.target.x)); }.bind(this))\n",
    "                 .attr(\"y2\", function (d) { return this.ax.y(this.yScale.invert(d.target.y)); }.bind(this));\n",
    "        this.node.attr(\"transform\", function (d) {\n",
    "            return \"translate(\" + this.ax.x(this.xScale.invert(d.x)) + \",\" + this.ax.y(this.yScale.invert(d.y)) + \")\";\n",
    "            }.bind(this)\n",
    "        );\n",
    "    }\n",
    "    \"\"\"\n",
    "\n",
    "    def __init__(self, graph, ax,\n",
    "                 gravity=1,\n",
    "                 link_distance=20,\n",
    "                 charge=-30,\n",
    "                 node_size=5,\n",
    "                 link_strength=1,\n",
    "                 friction=0.9):\n",
    "\n",
    "        self.dict_ = {\"type\": \"networkxd3forcelayout\",\n",
    "                      \"graph\": graph,\n",
    "                      \"ax_id\": mpld3.utils.get_id(ax),\n",
    "                      \"gravity\": gravity,\n",
    "                      \"charge\": charge,\n",
    "                      \"friction\": friction,\n",
    "                      \"link_distance\": link_distance,\n",
    "                      \"link_strength\": link_strength,\n",
    "                      \"nominal_radius\": node_size}\n",
    "\n",
    "import matplotlib.pyplot as plt\n",
    "\n",
    "fig, axs = plt.subplots(1, 1, figsize=(10, 10))\n",
    "ax = axs\n",
    "\n",
    "mpld3.plugins.connect(fig, NetworkXD3ForceLayout(filtered_recipes_graph,\n",
    "                                                 ax,\n",
    "                                                 gravity=.5,\n",
    "                                                 link_distance=20,\n",
    "                                                 charge=-600,\n",
    "                                                 friction=1\n",
    "                                                )\n",
    "                     )\n",
    "\n",
    "mpld3.show()"
   ]
  },
  {
   "cell_type": "code",
   "execution_count": null,
   "metadata": {
    "collapsed": true,
    "deletable": true,
    "editable": true
   },
   "outputs": [],
   "source": []
  }
 ],
 "metadata": {
  "kernelspec": {
   "display_name": "Python [Root]",
   "language": "python",
   "name": "Python [Root]"
  },
  "language_info": {
   "codemirror_mode": {
    "name": "ipython",
    "version": 2
   },
   "file_extension": ".py",
   "mimetype": "text/x-python",
   "name": "python",
   "nbconvert_exporter": "python",
   "pygments_lexer": "ipython2",
   "version": "2.7.12"
  }
 },
 "nbformat": 4,
 "nbformat_minor": 0
}
