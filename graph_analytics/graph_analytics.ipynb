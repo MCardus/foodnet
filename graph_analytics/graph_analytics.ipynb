{
 "cells": [
  {
   "cell_type": "markdown",
   "metadata": {
    "deletable": true,
    "editable": true
   },
   "source": [
    "# Foodnet - Spanish cuisine analysis\n",
    "Author: Marc Cadús García"
   ]
  },
  {
   "cell_type": "markdown",
   "metadata": {
    "deletable": true,
    "editable": true
   },
   "source": [
    "In this notebook I pretend to apply different analytics\n",
    "techniques over a graph representing the Spanish cuisine in order to extract new insights. It is expected that graph algorithms may help to extract new knowledge for helping to understand better the Spanish culinary culture. To do so, I a\n",
    "going to use Python [networkX](https://networkx.github.io/). I have scrapped near 3000 Spanish recipes from [cookpad.com](https://cookpad.com/es/buscar/cocina%20tradicional%20espa%C3%B1ola?page=1). These recipes and the scrapping code are available in this repository."
   ]
  },
  {
   "cell_type": "markdown",
   "metadata": {
    "deletable": true,
    "editable": true
   },
   "source": [
    "## Data exploration and transformation"
   ]
  },
  {
   "cell_type": "code",
   "execution_count": 93,
   "metadata": {
    "collapsed": false,
    "deletable": true,
    "editable": true
   },
   "outputs": [],
   "source": [
    "#imports\n",
    "import networkx as nx\n",
    "import pandas as pd\n",
    "from itertools import combinations\n",
    "import matplotlib.pyplot as plt\n",
    "from matplotlib import pylab\n",
    "import sys  \n",
    "from itertools import combinations\n",
    "import operator\n",
    "from operator import itemgetter\n",
    "from scipy import integrate"
   ]
  },
  {
   "cell_type": "code",
   "execution_count": 2,
   "metadata": {
    "collapsed": false,
    "deletable": true,
    "editable": true
   },
   "outputs": [],
   "source": [
    "# Exploring data\n",
    "recipes_df = pd.read_csv('../data/clean_spanish_recipes.csv',sep='\",\"')\n",
    "print recipes_df.keys()\n",
    "print \"\\n\"\n",
    "print recipes_df.head()"
   ]
  },
  {
   "cell_type": "code",
   "execution_count": 3,
   "metadata": {
    "collapsed": false,
    "deletable": true,
    "editable": true
   },
   "outputs": [],
   "source": [
    "# Transforming data\n",
    "#recipes_df[\"ingredients\"].apply(encode(\"latin-1\"))\n",
    "recipes_df[\"ingredients\"] = recipes_df[\"ingredients\"].str.split(\"', '\")\n",
    "print type(recipes_df[\"ingredients\"][0])"
   ]
  },
  {
   "cell_type": "markdown",
   "metadata": {
    "collapsed": true,
    "deletable": true,
    "editable": true
   },
   "source": [
    "## Graph building"
   ]
  },
  {
   "cell_type": "code",
   "execution_count": 4,
   "metadata": {
    "collapsed": false,
    "deletable": true,
    "editable": true
   },
   "outputs": [],
   "source": [
    "\n",
    "def build_graph(nodes, graph):\n",
    "   # Generate a new graph. Edges are nodes permutations in pairs\n",
    "    edges = combinations(nodes, 2)\n",
    "    graph.add_nodes_from(nodes)\n",
    "    weighted_edges = list()\n",
    "    for edge in edges:\n",
    "        if graph.has_edge(edge[0],edge[1]):\n",
    "            weighted_edges.append((edge[0],edge[1],graph[edge[0]][edge[1]]['weight']+1))\n",
    "        else:\n",
    "            weighted_edges.append((edge[0],edge[1],1))\n",
    "    graph.add_weighted_edges_from(weighted_edges)"
   ]
  },
  {
   "cell_type": "code",
   "execution_count": 5,
   "metadata": {
    "collapsed": true
   },
   "outputs": [],
   "source": [
    "def save_graph(graph,file_name):\n",
    "    #initialze Figure\n",
    "    plt.figure(num=None, figsize=(120, 120), dpi=60)\n",
    "    plt.axis('off')\n",
    "    fig = plt.figure(1)\n",
    "    pos = nx.spring_layout(graph)\n",
    "    \n",
    "    d = nx.degree(graph)\n",
    "    \n",
    "    nx.draw_networkx_nodes(graph,pos, nodelist=d.keys(), node_size=[v * 10 for v in d.values()])\n",
    "    nx.draw_networkx_edges(graph,pos)\n",
    "    nx.draw_networkx_labels(graph,pos)\n",
    "\n",
    "    cut = 1.00\n",
    "    xmax = cut * max(xx for xx, yy in pos.values())\n",
    "    ymax = cut * max(yy for xx, yy in pos.values())\n",
    "    plt.xlim(0, xmax)\n",
    "    plt.ylim(0, ymax)\n",
    "\n",
    "    plt.savefig(file_name,bbox_inches=\"tight\")\n",
    "    pylab.close()\n",
    "    del fig"
   ]
  },
  {
   "cell_type": "code",
   "execution_count": 6,
   "metadata": {
    "collapsed": false,
    "deletable": true,
    "editable": true
   },
   "outputs": [],
   "source": [
    "# Generating graph\n",
    "recipes_graph  = nx.Graph()\n",
    "recipes_graph.clear()\n",
    "for val in recipes_df[\"ingredients\"]:\n",
    "    build_graph(val,recipes_graph)\n",
    "    \n"
   ]
  },
  {
   "cell_type": "markdown",
   "metadata": {},
   "source": [
    "## Graph analytics"
   ]
  },
  {
   "cell_type": "code",
   "execution_count": 7,
   "metadata": {
    "collapsed": false
   },
   "outputs": [],
   "source": [
    "#Num of nodes\n",
    "print \"Total num of nodes: \"+str(len(recipes_graph.nodes()))\n",
    "print \"Total num of edges: \"+str(len(recipes_graph.edges()))"
   ]
  },
  {
   "cell_type": "code",
   "execution_count": 55,
   "metadata": {
    "collapsed": false
   },
   "outputs": [],
   "source": [
    "# Top 20 higher degree nodes\n",
    "degrees = sorted(recipes_graph.degree_iter(),key=itemgetter(1),reverse=True)\n",
    "high_degree_nodes = list()\n",
    "for node in degrees[:20]:\n",
    "    high_degree_nodes.append(node[0])\n",
    "    print node"
   ]
  },
  {
   "cell_type": "code",
   "execution_count": 54,
   "metadata": {
    "collapsed": false
   },
   "outputs": [],
   "source": [
    "# Top 20 eigenvector centrality\n",
    "eigenvector_centrality = nx.eigenvector_centrality(recipes_graph)\n",
    "eigenvector_centrality_sorted = sorted(eigenvector_centrality.items(), key=itemgetter(1), reverse=True)\n",
    "for node in eigenvector_centrality_sorted[1:21]:\n",
    "    print node"
   ]
  },
  {
   "cell_type": "code",
   "execution_count": 60,
   "metadata": {
    "collapsed": false
   },
   "outputs": [],
   "source": [
    "# Top 20 pagerank centrality\n",
    "pagerank_centrality = nx.eigenvector_centrality(recipes_graph)\n",
    "pagerank_centrality_sorted = sorted(pagerank_centrality.items(), key=itemgetter(1), reverse=True)\n",
    "for node in pagerank_centrality_sorted[1:21]:\n",
    "    print node"
   ]
  },
  {
   "cell_type": "code",
   "execution_count": 86,
   "metadata": {
    "collapsed": false
   },
   "outputs": [],
   "source": [
    "# Conected components\n",
    "connected_component = list(nx.connected_component_subgraphs(recipes_graph))\n",
    "print \"There is \"+str(len(connected_component))+\" connected componentes\"\n",
    "for component in connected_component:\n",
    "    print \"- Component of \"+str(len(component))+ \" nodes\"\n",
    "    if (len(component)==1):\n",
    "        print \"\\t- Ingredient: \"+str(component.nodes())\n",
    "main_component = connected_component[0]"
   ]
  },
  {
   "cell_type": "code",
   "execution_count": 88,
   "metadata": {
    "collapsed": false
   },
   "outputs": [],
   "source": [
    "# Graph diameter\n",
    "print \"Nodes having minimum eccentricity\\n\"+str(nx.center(main_component))\n",
    "print \"Nodes having maximum eccentricity\\n\"+str(nx.periphery(main_component))\n",
    "print \"Minimum eccentricity \"+str(nx.radius(main_component))\n",
    "print \"Maximum eccentricity \"+str(nx.diameter(main_component))"
   ]
  },
  {
   "cell_type": "code",
   "execution_count": 90,
   "metadata": {
    "collapsed": true
   },
   "outputs": [],
   "source": [
    "# Mean cut\n",
    "print \"Nodes to be removed to disconect the graph\"+nx.minimum_node_cut(main_component)"
   ]
  },
  {
   "cell_type": "markdown",
   "metadata": {},
   "source": [
    "## Visualitzations"
   ]
  },
  {
   "cell_type": "code",
   "execution_count": 91,
   "metadata": {
    "collapsed": true
   },
   "outputs": [],
   "source": [
    "# For avoid encoding problems\n",
    "reload(sys)  \n",
    "sys.setdefaultencoding('utf8')"
   ]
  },
  {
   "cell_type": "code",
   "execution_count": 99,
   "metadata": {
    "collapsed": false
   },
   "outputs": [],
   "source": [
    "# Original graph\n",
    "save_graph(main_component,\"original_graph.jpg\")"
   ]
  },
  {
   "cell_type": "code",
   "execution_count": 100,
   "metadata": {
    "collapsed": true
   },
   "outputs": [],
   "source": [
    "def extract_backbone(g, alpha):\n",
    "    backbone_graph = nx.Graph()\n",
    "    for node in g:\n",
    "        k_n = len(g[node])\n",
    "        if k_n > 1:\n",
    "            sum_w = sum( g[node][neighbor]['weight'] for neighbor in g[node] )\n",
    "            for neighbor in g[node]:\n",
    "                edgeWeight = g[node][neighbor]['weight']\n",
    "                pij = float(edgeWeight)/sum_w\n",
    "                if (1-pij)**(k_n-1) < alpha: # equation 2\n",
    "                    backbone_graph.add_edge( node,neighbor, weight = edgeWeight)\n",
    "    return backbone_graph"
   ]
  },
  {
   "cell_type": "code",
   "execution_count": 98,
   "metadata": {
    "collapsed": false
   },
   "outputs": [],
   "source": [
    "save_graph(extract_backbone(main_component,0.01),\"backbone_graph.jpg\")"
   ]
  },
  {
   "cell_type": "code",
   "execution_count": null,
   "metadata": {
    "collapsed": true
   },
   "outputs": [],
   "source": [
    "# Visualizing Higher degree nodes\n",
    "k = recipes_graph.subgraph(high_degree_nodes)\n",
    "save_graph(k,\"high_degree_subgraph.jpg\")"
   ]
  },
  {
   "cell_type": "code",
   "execution_count": null,
   "metadata": {
    "collapsed": false
   },
   "outputs": [],
   "source": []
  },
  {
   "cell_type": "code",
   "execution_count": null,
   "metadata": {
    "collapsed": true
   },
   "outputs": [],
   "source": []
  },
  {
   "cell_type": "code",
   "execution_count": null,
   "metadata": {
    "collapsed": false
   },
   "outputs": [],
   "source": []
  },
  {
   "cell_type": "code",
   "execution_count": null,
   "metadata": {
    "collapsed": false,
    "deletable": true,
    "editable": true
   },
   "outputs": [],
   "source": []
  },
  {
   "cell_type": "code",
   "execution_count": null,
   "metadata": {
    "collapsed": true,
    "deletable": true,
    "editable": true
   },
   "outputs": [],
   "source": []
  },
  {
   "cell_type": "code",
   "execution_count": null,
   "metadata": {
    "collapsed": false,
    "deletable": true,
    "editable": true
   },
   "outputs": [],
   "source": []
  },
  {
   "cell_type": "code",
   "execution_count": null,
   "metadata": {
    "collapsed": false,
    "deletable": true,
    "editable": true
   },
   "outputs": [],
   "source": []
  },
  {
   "cell_type": "code",
   "execution_count": null,
   "metadata": {
    "collapsed": false,
    "deletable": true,
    "editable": true
   },
   "outputs": [],
   "source": []
  },
  {
   "cell_type": "code",
   "execution_count": null,
   "metadata": {
    "collapsed": false,
    "deletable": true,
    "editable": true
   },
   "outputs": [],
   "source": []
  },
  {
   "cell_type": "code",
   "execution_count": null,
   "metadata": {
    "collapsed": false,
    "deletable": true,
    "editable": true
   },
   "outputs": [],
   "source": []
  },
  {
   "cell_type": "code",
   "execution_count": null,
   "metadata": {
    "collapsed": false,
    "deletable": true,
    "editable": true
   },
   "outputs": [],
   "source": []
  },
  {
   "cell_type": "code",
   "execution_count": null,
   "metadata": {
    "collapsed": false,
    "deletable": true,
    "editable": true
   },
   "outputs": [],
   "source": []
  },
  {
   "cell_type": "code",
   "execution_count": null,
   "metadata": {
    "collapsed": true,
    "deletable": true,
    "editable": true
   },
   "outputs": [],
   "source": []
  },
  {
   "cell_type": "code",
   "execution_count": null,
   "metadata": {
    "collapsed": true,
    "deletable": true,
    "editable": true
   },
   "outputs": [],
   "source": []
  }
 ],
 "metadata": {
  "kernelspec": {
   "display_name": "Python [Root]",
   "language": "python",
   "name": "Python [Root]"
  },
  "language_info": {
   "codemirror_mode": {
    "name": "ipython",
    "version": 2
   },
   "file_extension": ".py",
   "mimetype": "text/x-python",
   "name": "python",
   "nbconvert_exporter": "python",
   "pygments_lexer": "ipython2",
   "version": "2.7.12"
  }
 },
 "nbformat": 4,
 "nbformat_minor": 0
}
